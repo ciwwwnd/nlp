{
 "cells": [
  {
   "cell_type": "markdown",
   "metadata": {},
   "source": [
    "У меня слетел чекпойнт с тетрадки и парсинг данных пропал, так что я прикладываю готовые лемматизированные тексты, которые остались на моем компьютере. "
   ]
  },
  {
   "cell_type": "code",
   "execution_count": 1,
   "metadata": {},
   "outputs": [],
   "source": [
    "with open('/Users/ciwwwnd/Desktop/untitled folder/new_positive.txt', 'r', encoding='utf-8') as f:\n",
    "    good_reviews = f.read()\n"
   ]
  },
  {
   "cell_type": "code",
   "execution_count": 2,
   "metadata": {},
   "outputs": [],
   "source": [
    "with open('/Users/ciwwwnd/Desktop/untitled folder/new_negative.txt', 'r', encoding='utf-8') as ff:\n",
    "    negative_reviews = ff.read()"
   ]
  },
  {
   "cell_type": "code",
   "execution_count": 3,
   "metadata": {},
   "outputs": [],
   "source": [
    "from nltk import word_tokenize\n",
    "import pymorphy2\n",
    "morph = pymorphy2.MorphAnalyzer()"
   ]
  },
  {
   "cell_type": "code",
   "execution_count": 4,
   "metadata": {},
   "outputs": [],
   "source": [
    "def preprocess(text):\n",
    "    text = text.lower()\n",
    "    words = word_tokenize(text)\n",
    "    out = []\n",
    "    for word in words:\n",
    "        p = morph.parse(word)[0]\n",
    "        out.append(p.normal_form)\n",
    "    return out"
   ]
  },
  {
   "cell_type": "code",
   "execution_count": 5,
   "metadata": {},
   "outputs": [],
   "source": [
    "preprocessed_positive = preprocess(good_reviews)\n",
    "preprocessed_negative = preprocess(negative_reviews)"
   ]
  },
  {
   "cell_type": "code",
   "execution_count": 6,
   "metadata": {},
   "outputs": [
    {
     "data": {
      "text/plain": [
       "['проходить',\n",
       " 'стажировка',\n",
       " 'начинаться',\n",
       " 'весь',\n",
       " 'хорошо',\n",
       " 'но',\n",
       " 'они',\n",
       " 'prдиректор',\n",
       " 'хамка',\n",
       " 'какой']"
      ]
     },
     "execution_count": 6,
     "metadata": {},
     "output_type": "execute_result"
    }
   ],
   "source": [
    "preprocessed_negative[:10]"
   ]
  },
  {
   "cell_type": "code",
   "execution_count": 7,
   "metadata": {},
   "outputs": [],
   "source": [
    "from collections import Counter"
   ]
  },
  {
   "cell_type": "code",
   "execution_count": 8,
   "metadata": {},
   "outputs": [],
   "source": [
    "positive_counter = Counter(preprocessed_positive)\n",
    "negative_counter = Counter(preprocessed_negative)"
   ]
  },
  {
   "cell_type": "code",
   "execution_count": 9,
   "metadata": {},
   "outputs": [
    {
     "data": {
      "text/plain": [
       "[('и', 60),\n",
       " ('в', 52),\n",
       " ('я', 46),\n",
       " ('что', 40),\n",
       " ('не', 36),\n",
       " ('весь', 34),\n",
       " ('на', 30),\n",
       " ('с', 30),\n",
       " ('они', 24),\n",
       " ('он', 24)]"
      ]
     },
     "execution_count": 9,
     "metadata": {},
     "output_type": "execute_result"
    }
   ],
   "source": [
    "negative_counter.most_common(10)"
   ]
  },
  {
   "cell_type": "code",
   "execution_count": 10,
   "metadata": {},
   "outputs": [],
   "source": [
    "positive_corpus = []\n",
    "for i, j in positive_counter.items():\n",
    "    if j > 3:\n",
    "        positive_corpus.append(i)"
   ]
  },
  {
   "cell_type": "code",
   "execution_count": 11,
   "metadata": {},
   "outputs": [],
   "source": [
    "neg_corpus = []\n",
    "for i, j in negative_counter.items():\n",
    "    if j > 3:\n",
    "        neg_corpus.append(i)"
   ]
  },
  {
   "cell_type": "code",
   "execution_count": 12,
   "metadata": {},
   "outputs": [
    {
     "data": {
      "text/plain": [
       "(44, 116)"
      ]
     },
     "execution_count": 12,
     "metadata": {},
     "output_type": "execute_result"
    }
   ],
   "source": [
    "len(positive_corpus), len(neg_corpus)\n"
   ]
  },
  {
   "cell_type": "code",
   "execution_count": 14,
   "metadata": {},
   "outputs": [],
   "source": [
    "positive_corpus = set(positive_corpus)\n",
    "neg_corpus = set(neg_corpus)"
   ]
  },
  {
   "cell_type": "code",
   "execution_count": 16,
   "metadata": {},
   "outputs": [],
   "source": [
    "unique_negative = neg_corpus - positive_corpus\n",
    "unique_positive = positive_corpus - neg_corpus\n"
   ]
  },
  {
   "cell_type": "code",
   "execution_count": 17,
   "metadata": {},
   "outputs": [
    {
     "data": {
      "text/plain": [
       "(89, 17)"
      ]
     },
     "execution_count": 17,
     "metadata": {},
     "output_type": "execute_result"
    }
   ],
   "source": [
    "len(unique_negative), len(unique_positive)"
   ]
  },
  {
   "cell_type": "code",
   "execution_count": null,
   "metadata": {},
   "outputs": [],
   "source": [
    "def guess(review):\n",
    "    preprocessed_r = preprocess(review)\n",
    "    review_words = set(preprocessed_r)\n",
    "    bad_intersection = review_words & unique_negative\n",
    "    good_intersection = review_words & unique_positive\n",
    "    if len(bad_intersection) > len(good_intersection):\n",
    "        return 'bad'\n",
    "    elif len(good_intersection) > len(bad_intersection):\n",
    "        return 'good'\n",
    "    else:\n",
    "        return 'n/a'"
   ]
  },
  {
   "cell_type": "code",
   "execution_count": null,
   "metadata": {},
   "outputs": [],
   "source": []
  }
 ],
 "metadata": {
  "kernelspec": {
   "display_name": "Python 3",
   "language": "python",
   "name": "python3"
  },
  "language_info": {
   "codemirror_mode": {
    "name": "ipython",
    "version": 3
   },
   "file_extension": ".py",
   "mimetype": "text/x-python",
   "name": "python",
   "nbconvert_exporter": "python",
   "pygments_lexer": "ipython3",
   "version": "3.8.3"
  }
 },
 "nbformat": 4,
 "nbformat_minor": 4
}
