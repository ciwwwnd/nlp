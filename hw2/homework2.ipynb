{
 "cells": [
  {
   "cell_type": "markdown",
   "metadata": {},
   "source": [
    "* Почему текст подходит для оценки: разнообразный, много именнованных сущностей\n",
    "* Тегсет: Universal Dependencies, потому что он универсален и на нем основывается stanza и natasha"
   ]
  },
  {
   "cell_type": "code",
   "execution_count": 48,
   "metadata": {},
   "outputs": [],
   "source": [
    "with open('panorama_news.txt', encoding='utf-8') as file:\n",
    "    text = file.read()"
   ]
  },
  {
   "cell_type": "markdown",
   "metadata": {},
   "source": [
    "### stanza"
   ]
  },
  {
   "cell_type": "code",
   "execution_count": 49,
   "metadata": {},
   "outputs": [
    {
     "name": "stderr",
     "output_type": "stream",
     "text": [
      "2021-10-02 05:18:24 INFO: Loading these models for language: ru (Russian):\n",
      "=========================\n",
      "| Processor | Package   |\n",
      "-------------------------\n",
      "| tokenize  | syntagrus |\n",
      "| pos       | syntagrus |\n",
      "=========================\n",
      "\n",
      "2021-10-02 05:18:24 INFO: Use device: cpu\n",
      "2021-10-02 05:18:24 INFO: Loading: tokenize\n",
      "2021-10-02 05:18:25 INFO: Loading: pos\n",
      "2021-10-02 05:18:25 INFO: Done loading processors!\n"
     ]
    },
    {
     "name": "stdout",
     "output_type": "stream",
     "text": [
      "word: На\tupos: ADP\txpos: None\tfeats: _\n",
      "word: торгах\tupos: NOUN\txpos: None\tfeats: Animacy=Inan|Case=Loc|Gender=Masc|Number=Plur\n",
      "word: 20\tupos: NUM\txpos: None\tfeats: _\n",
      "word: сентября\tupos: NOUN\txpos: None\tfeats: Animacy=Inan|Case=Gen|Gender=Masc|Number=Sing\n",
      "word: был\tupos: AUX\txpos: None\tfeats: Aspect=Imp|Gender=Masc|Mood=Ind|Number=Sing|Tense=Past|VerbForm=Fin|Voice=Act\n",
      "word: зафиксирован\tupos: VERB\txpos: None\tfeats: Aspect=Perf|Gender=Masc|Number=Sing|Tense=Past|Variant=Short|VerbForm=Part|Voice=Pass\n",
      "word: самый\tupos: ADJ\txpos: None\tfeats: Case=Nom|Degree=Pos|Gender=Masc|Number=Sing\n",
      "word: низкий\tupos: ADJ\txpos: None\tfeats: Case=Nom|Degree=Pos|Gender=Masc|Number=Sing\n",
      "word: за\tupos: ADP\txpos: None\tfeats: _\n",
      "word: последние\tupos: ADJ\txpos: None\tfeats: Animacy=Inan|Case=Acc|Degree=Pos|Number=Plur\n",
      "word: три\tupos: NUM\txpos: None\tfeats: Animacy=Inan|Case=Acc\n",
      "word: месяца\tupos: NOUN\txpos: None\tfeats: Animacy=Inan|Case=Gen|Gender=Masc|Number=Sing\n",
      "word: курс\tupos: NOUN\txpos: None\tfeats: Animacy=Inan|Case=Nom|Gender=Masc|Number=Sing\n",
      "word: немецкого\tupos: ADJ\txpos: None\tfeats: Case=Gen|Degree=Pos|Gender=Masc|Number=Sing\n",
      "word: биржевого\tupos: ADJ\txpos: None\tfeats: Case=Gen|Degree=Pos|Gender=Masc|Number=Sing\n",
      "word: индекса\tupos: NOUN\txpos: None\tfeats: Animacy=Inan|Case=Gen|Gender=Masc|Number=Sing\n",
      "word: DAX\tupos: PROPN\txpos: None\tfeats: Foreign=Yes\n",
      "word: .\tupos: PUNCT\txpos: None\tfeats: _\n",
      "word: Обвал\tupos: NOUN\txpos: None\tfeats: Animacy=Inan|Case=Acc|Gender=Masc|Number=Sing\n",
      "word: на\tupos: ADP\txpos: None\tfeats: _\n",
      "word: финансовом\tupos: ADJ\txpos: None\tfeats: Case=Loc|Degree=Pos|Gender=Masc|Number=Sing\n",
      "word: рынке\tupos: NOUN\txpos: None\tfeats: Animacy=Inan|Case=Loc|Gender=Masc|Number=Sing\n",
      "word: Германии\tupos: PROPN\txpos: None\tfeats: Animacy=Inan|Case=Gen|Gender=Fem|Number=Sing\n",
      "word: многие\tupos: NUM\txpos: None\tfeats: _\n",
      "word: эксперты\tupos: NOUN\txpos: None\tfeats: Animacy=Anim|Case=Nom|Gender=Masc|Number=Plur\n",
      "word: связывают\tupos: VERB\txpos: None\tfeats: Aspect=Imp|Mood=Ind|Number=Plur|Person=3|Tense=Pres|VerbForm=Fin|Voice=Act\n",
      "word: с\tupos: ADP\txpos: None\tfeats: _\n",
      "word: сообщениями\tupos: NOUN\txpos: None\tfeats: Animacy=Inan|Case=Ins|Gender=Neut|Number=Plur\n",
      "word: о\tupos: ADP\txpos: None\tfeats: _\n",
      "word: победе\tupos: NOUN\txpos: None\tfeats: Animacy=Inan|Case=Loc|Gender=Fem|Number=Sing\n",
      "word: партии\tupos: NOUN\txpos: None\tfeats: Animacy=Inan|Case=Gen|Gender=Fem|Number=Sing\n",
      "word: «\tupos: PUNCT\txpos: None\tfeats: _\n",
      "word: Единая\tupos: ADJ\txpos: None\tfeats: Case=Nom|Degree=Pos|Gender=Fem|Number=Sing\n",
      "word: Россия\tupos: PROPN\txpos: None\tfeats: Animacy=Inan|Case=Nom|Gender=Fem|Number=Sing\n",
      "word: »\tupos: PUNCT\txpos: None\tfeats: _\n",
      "word: на\tupos: ADP\txpos: None\tfeats: _\n",
      "word: выборах\tupos: NOUN\txpos: None\tfeats: Animacy=Inan|Case=Loc|Gender=Masc|Number=Plur\n",
      "word: в\tupos: ADP\txpos: None\tfeats: _\n",
      "word: Госдуму\tupos: PROPN\txpos: None\tfeats: Animacy=Inan|Case=Acc|Gender=Fem|Number=Sing\n",
      "word: .\tupos: PUNCT\txpos: None\tfeats: _\n",
      "word: В\tupos: ADP\txpos: None\tfeats: _\n",
      "word: понедельник\tupos: NOUN\txpos: None\tfeats: Animacy=Inan|Case=Acc|Gender=Masc|Number=Sing\n",
      "word: утром\tupos: NOUN\txpos: None\tfeats: Animacy=Inan|Case=Ins|Gender=Neut|Number=Sing\n",
      "word: DAX\tupos: PROPN\txpos: None\tfeats: Foreign=Yes\n",
      "word: потерял\tupos: VERB\txpos: None\tfeats: Aspect=Perf|Gender=Masc|Mood=Ind|Number=Sing|Tense=Past|VerbForm=Fin|Voice=Act\n",
      "word: почти\tupos: ADV\txpos: None\tfeats: Degree=Pos\n",
      "word: 3\tupos: NUM\txpos: None\tfeats: _\n",
      "word: %\tupos: SYM\txpos: None\tfeats: _\n",
      "word: ,\tupos: PUNCT\txpos: None\tfeats: _\n",
      "word: опустившись\tupos: VERB\txpos: None\tfeats: Aspect=Perf|Tense=Past|VerbForm=Conv|Voice=Mid\n",
      "word: до\tupos: ADP\txpos: None\tfeats: _\n",
      "word: 15 000\tupos: NUM\txpos: None\tfeats: _\n",
      "word: пунктов\tupos: NOUN\txpos: None\tfeats: Animacy=Inan|Case=Gen|Gender=Masc|Number=Plur\n",
      "word: .\tupos: PUNCT\txpos: None\tfeats: _\n",
      "word: Падение\tupos: NOUN\txpos: None\tfeats: Animacy=Inan|Case=Nom|Gender=Neut|Number=Sing\n",
      "word: индекса\tupos: NOUN\txpos: None\tfeats: Animacy=Inan|Case=Gen|Gender=Masc|Number=Sing\n",
      "word: по\tupos: ADP\txpos: None\tfeats: _\n",
      "word: времени\tupos: NOUN\txpos: None\tfeats: Animacy=Inan|Case=Dat|Gender=Neut|Number=Sing\n",
      "word: совпало\tupos: VERB\txpos: None\tfeats: Aspect=Perf|Gender=Neut|Mood=Ind|Number=Sing|Tense=Past|VerbForm=Fin|Voice=Act\n",
      "word: с\tupos: ADP\txpos: None\tfeats: _\n",
      "word: сообщениями\tupos: NOUN\txpos: None\tfeats: Animacy=Inan|Case=Ins|Gender=Neut|Number=Plur\n",
      "word: российского\tupos: ADJ\txpos: None\tfeats: Case=Gen|Degree=Pos|Gender=Masc|Number=Sing\n",
      "word: ЦИК\tupos: PROPN\txpos: None\tfeats: Animacy=Inan|Case=Gen|Gender=Masc|Number=Sing\n",
      "word: о\tupos: ADP\txpos: None\tfeats: _\n",
      "word: результатах\tupos: NOUN\txpos: None\tfeats: Animacy=Inan|Case=Loc|Gender=Masc|Number=Plur\n",
      "word: обработки\tupos: NOUN\txpos: None\tfeats: Animacy=Inan|Case=Gen|Gender=Fem|Number=Sing\n",
      "word: 70\tupos: NUM\txpos: None\tfeats: _\n",
      "word: %\tupos: SYM\txpos: None\tfeats: _\n",
      "word: протоколов\tupos: NOUN\txpos: None\tfeats: Animacy=Inan|Case=Gen|Gender=Masc|Number=Plur\n",
      "word: .\tupos: PUNCT\txpos: None\tfeats: _\n",
      "word: Известный\tupos: ADJ\txpos: None\tfeats: Case=Nom|Degree=Pos|Gender=Masc|Number=Sing\n",
      "word: немецкий\tupos: ADJ\txpos: None\tfeats: Case=Nom|Degree=Pos|Gender=Masc|Number=Sing\n",
      "word: политолог\tupos: NOUN\txpos: None\tfeats: Animacy=Anim|Case=Nom|Gender=Masc|Number=Sing\n",
      "word: и\tupos: CCONJ\txpos: None\tfeats: _\n",
      "word: экономист\tupos: NOUN\txpos: None\tfeats: Animacy=Anim|Case=Nom|Gender=Masc|Number=Sing\n",
      "word: Александр\tupos: PROPN\txpos: None\tfeats: Animacy=Anim|Case=Nom|Gender=Masc|Number=Sing\n",
      "word: Рар\tupos: PROPN\txpos: None\tfeats: Animacy=Anim|Case=Nom|Gender=Masc|Number=Sing\n",
      "word: объяснил\tupos: VERB\txpos: None\tfeats: Aspect=Perf|Gender=Masc|Mood=Ind|Number=Sing|Tense=Past|VerbForm=Fin|Voice=Act\n",
      "word: обвал\tupos: NOUN\txpos: None\tfeats: Animacy=Inan|Case=Acc|Gender=Masc|Number=Sing\n",
      "word: DAX\tupos: PROPN\txpos: None\tfeats: Foreign=Yes\n",
      "word: хорошими\tupos: ADJ\txpos: None\tfeats: Case=Ins|Degree=Pos|Number=Plur\n",
      "word: показателями\tupos: NOUN\txpos: None\tfeats: Animacy=Inan|Case=Ins|Gender=Masc|Number=Plur\n",
      "word: «\tupos: ADP\txpos: None\tfeats: _\n",
      "word: Единой\tupos: ADJ\txpos: None\tfeats: Case=Gen|Degree=Pos|Gender=Fem|Number=Sing\n",
      "word: России\tupos: PROPN\txpos: None\tfeats: Animacy=Inan|Case=Gen|Gender=Fem|Number=Sing\n",
      "word: »\tupos: PUNCT\txpos: None\tfeats: _\n",
      "word: на\tupos: ADP\txpos: None\tfeats: _\n",
      "word: выборах\tupos: NOUN\txpos: None\tfeats: Animacy=Inan|Case=Loc|Gender=Masc|Number=Plur\n",
      "word: в\tupos: ADP\txpos: None\tfeats: _\n",
      "word: Госдуму\tupos: PROPN\txpos: None\tfeats: Animacy=Inan|Case=Acc|Gender=Fem|Number=Sing\n",
      "word: :\tupos: PUNCT\txpos: None\tfeats: _\n",
      "word: «\tupos: PUNCT\txpos: None\tfeats: _\n",
      "word: Конечно\tupos: ADV\txpos: None\tfeats: Degree=Pos\n",
      "word: ,\tupos: PUNCT\txpos: None\tfeats: _\n",
      "word: многие\tupos: NUM\txpos: None\tfeats: _\n",
      "word: в\tupos: ADP\txpos: None\tfeats: _\n",
      "word: Германии\tupos: PROPN\txpos: None\tfeats: Animacy=Inan|Case=Loc|Gender=Fem|Number=Sing\n",
      "word: понимали\tupos: VERB\txpos: None\tfeats: Aspect=Imp|Mood=Ind|Number=Plur|Tense=Past|VerbForm=Fin|Voice=Act\n",
      "word: ,\tupos: PUNCT\txpos: None\tfeats: _\n",
      "word: что\tupos: SCONJ\txpos: None\tfeats: _\n",
      "word: ЕР\tupos: PROPN\txpos: None\tfeats: Animacy=Inan|Case=Nom|Gender=Masc|Number=Sing\n",
      "word: останется\tupos: VERB\txpos: None\tfeats: Aspect=Perf|Mood=Ind|Number=Sing|Person=3|Tense=Fut|VerbForm=Fin|Voice=Mid\n",
      "word: главной\tupos: ADJ\txpos: None\tfeats: Case=Ins|Degree=Pos|Gender=Fem|Number=Sing\n",
      "word: силой\tupos: NOUN\txpos: None\tfeats: Animacy=Inan|Case=Ins|Gender=Fem|Number=Sing\n",
      "word: в\tupos: ADP\txpos: None\tfeats: _\n",
      "word: парламенте\tupos: NOUN\txpos: None\tfeats: Animacy=Inan|Case=Loc|Gender=Masc|Number=Sing\n",
      "word: .\tupos: PUNCT\txpos: None\tfeats: _\n",
      "word: Но\tupos: CCONJ\txpos: None\tfeats: _\n",
      "word: мало\tupos: ADV\txpos: None\tfeats: Degree=Pos\n",
      "word: кто\tupos: PRON\txpos: None\tfeats: Case=Nom\n",
      "word: ожидал\tupos: VERB\txpos: None\tfeats: Aspect=Imp|Gender=Masc|Mood=Ind|Number=Sing|Tense=Past|VerbForm=Fin|Voice=Act\n",
      "word: такого\tupos: DET\txpos: None\tfeats: Case=Gen|Gender=Masc|Number=Sing\n",
      "word: высокого\tupos: ADJ\txpos: None\tfeats: Case=Gen|Degree=Pos|Gender=Masc|Number=Sing\n",
      "word: уровня\tupos: NOUN\txpos: None\tfeats: Animacy=Inan|Case=Gen|Gender=Masc|Number=Sing\n",
      "word: доверия\tupos: NOUN\txpos: None\tfeats: Animacy=Inan|Case=Gen|Gender=Neut|Number=Sing\n",
      "word: избирателей\tupos: NOUN\txpos: None\tfeats: Animacy=Anim|Case=Gen|Gender=Masc|Number=Plur\n",
      "word: к\tupos: ADP\txpos: None\tfeats: _\n",
      "word: партии\tupos: NOUN\txpos: None\tfeats: Animacy=Inan|Case=Dat|Gender=Fem|Number=Sing\n",
      "word: власти\tupos: NOUN\txpos: None\tfeats: Animacy=Inan|Case=Gen|Gender=Fem|Number=Sing\n",
      "word: .\tupos: PUNCT\txpos: None\tfeats: _\n",
      "word: Некоторые\tupos: DET\txpos: None\tfeats: Case=Nom|Number=Plur\n",
      "word: аналитики\tupos: NOUN\txpos: None\tfeats: Animacy=Anim|Case=Nom|Gender=Masc|Number=Plur\n",
      "word: прогнозировали\tupos: VERB\txpos: None\tfeats: Aspect=Imp|Mood=Ind|Number=Plur|Tense=Past|VerbForm=Fin|Voice=Act\n",
      "word: ,\tupos: PUNCT\txpos: None\tfeats: _\n",
      "word: что\tupos: SCONJ\txpos: None\tfeats: _\n",
      "word: ЕР\tupos: PROPN\txpos: None\tfeats: Animacy=Anim|Case=Nom|Gender=Masc|Number=Sing\n",
      "word: придется\tupos: VERB\txpos: None\tfeats: Aspect=Perf|Mood=Ind|Number=Sing|Person=3|Tense=Fut|VerbForm=Fin|Voice=Mid\n",
      "word: вести\tupos: VERB\txpos: None\tfeats: Aspect=Imp|VerbForm=Inf|Voice=Act\n",
      "word: переговоры\tupos: NOUN\txpos: None\tfeats: Animacy=Inan|Case=Acc|Gender=Masc|Number=Plur\n",
      "word: о\tupos: ADP\txpos: None\tfeats: _\n",
      "word: создании\tupos: NOUN\txpos: None\tfeats: Animacy=Inan|Case=Loc|Gender=Neut|Number=Sing\n",
      "word: коалиции\tupos: NOUN\txpos: None\tfeats: Animacy=Inan|Case=Gen|Gender=Fem|Number=Sing\n",
      "word: с\tupos: ADP\txpos: None\tfeats: _\n",
      "word: другими\tupos: ADJ\txpos: None\tfeats: Case=Ins|Degree=Pos|Number=Plur\n",
      "word: фракциями\tupos: NOUN\txpos: None\tfeats: Animacy=Inan|Case=Ins|Gender=Fem|Number=Plur\n",
      "word: »\tupos: PUNCT\txpos: None\tfeats: _\n",
      "word: .\tupos: PUNCT\txpos: None\tfeats: _\n",
      "word: Эксперт\tupos: NOUN\txpos: None\tfeats: Animacy=Anim|Case=Nom|Gender=Masc|Number=Sing\n",
      "word: отметил\tupos: VERB\txpos: None\tfeats: Aspect=Perf|Gender=Masc|Mood=Ind|Number=Sing|Tense=Past|VerbForm=Fin|Voice=Act\n",
      "word: тот\tupos: DET\txpos: None\tfeats: Case=Acc|Gender=Masc|Number=Sing\n",
      "word: факт\tupos: NOUN\txpos: None\tfeats: Animacy=Inan|Case=Acc|Gender=Masc|Number=Sing\n",
      "word: ,\tupos: PUNCT\txpos: None\tfeats: _\n",
      "word: что\tupos: SCONJ\txpos: None\tfeats: _\n",
      "word: больше\tupos: ADV\txpos: None\tfeats: Degree=Cmp\n",
      "word: всего\tupos: PRON\txpos: None\tfeats: Animacy=Inan|Case=Gen|Gender=Neut|Number=Sing\n",
      "word: потеряли\tupos: VERB\txpos: None\tfeats: Aspect=Perf|Mood=Ind|Number=Plur|Tense=Past|VerbForm=Fin|Voice=Act\n",
      "word: акций\tupos: NOUN\txpos: None\tfeats: Animacy=Inan|Case=Gen|Gender=Fem|Number=Plur\n",
      "word: немецких\tupos: ADJ\txpos: None\tfeats: Case=Gen|Degree=Pos|Number=Plur\n",
      "word: автомобилестроителей\tupos: NOUN\txpos: None\tfeats: Animacy=Anim|Case=Gen|Gender=Masc|Number=Plur\n",
      "word: Porsche\tupos: PROPN\txpos: None\tfeats: Foreign=Yes\n",
      "word: и\tupos: CCONJ\txpos: None\tfeats: _\n",
      "word: Volkswagen\tupos: PROPN\txpos: None\tfeats: Foreign=Yes\n",
      "word: ,\tupos: PUNCT\txpos: None\tfeats: _\n",
      "word: опустившись\tupos: VERB\txpos: None\tfeats: Aspect=Perf|Tense=Past|VerbForm=Conv|Voice=Mid\n",
      "word: почти\tupos: ADV\txpos: None\tfeats: Degree=Pos\n",
      "word: на\tupos: ADP\txpos: None\tfeats: _\n",
      "word: 6\tupos: NUM\txpos: None\tfeats: _\n",
      "word: %\tupos: SYM\txpos: None\tfeats: _\n",
      "word: .\tupos: PUNCT\txpos: None\tfeats: _\n",
      "word: «\tupos: PUNCT\txpos: None\tfeats: _\n",
      "word: В\tupos: ADP\txpos: None\tfeats: _\n",
      "word: своей\tupos: DET\txpos: None\tfeats: Case=Loc|Gender=Fem|Number=Sing\n",
      "word: предвыборной\tupos: ADJ\txpos: None\tfeats: Case=Loc|Degree=Pos|Gender=Fem|Number=Sing\n",
      "word: программе\tupos: NOUN\txpos: None\tfeats: Animacy=Inan|Case=Loc|Gender=Fem|Number=Sing\n",
      "word: «\tupos: PUNCT\txpos: None\tfeats: _\n",
      "word: Единая\tupos: ADJ\txpos: None\tfeats: Case=Nom|Degree=Pos|Gender=Fem|Number=Sing\n",
      "word: Россия\tupos: PROPN\txpos: None\tfeats: Animacy=Inan|Case=Nom|Gender=Fem|Number=Sing\n",
      "word: »\tupos: PART\txpos: None\tfeats: _\n",
      "word: обещала\tupos: VERB\txpos: None\tfeats: Aspect=Imp|Gender=Fem|Mood=Ind|Number=Sing|Tense=Past|VerbForm=Fin|Voice=Act\n",
      "word: увеличить\tupos: VERB\txpos: None\tfeats: Aspect=Perf|VerbForm=Inf|Voice=Act\n",
      "word: финансирование\tupos: NOUN\txpos: None\tfeats: Animacy=Inan|Case=Acc|Gender=Neut|Number=Sing\n",
      "word: образования\tupos: NOUN\txpos: None\tfeats: Animacy=Inan|Case=Gen|Gender=Neut|Number=Sing\n",
      "word: и\tupos: CCONJ\txpos: None\tfeats: _\n",
      "word: науки\tupos: NOUN\txpos: None\tfeats: Animacy=Inan|Case=Gen|Gender=Fem|Number=Sing\n",
      "word: .\tupos: PUNCT\txpos: None\tfeats: _\n",
      "word: Такая\tupos: DET\txpos: None\tfeats: Case=Nom|Gender=Fem|Number=Sing\n",
      "word: политика\tupos: NOUN\txpos: None\tfeats: Animacy=Inan|Case=Nom|Gender=Fem|Number=Sing\n",
      "word: неизбежно\tupos: ADV\txpos: None\tfeats: Degree=Pos\n",
      "word: приведет\tupos: VERB\txpos: None\tfeats: Aspect=Perf|Mood=Ind|Number=Sing|Person=3|Tense=Fut|VerbForm=Fin|Voice=Act\n",
      "word: к\tupos: ADP\txpos: None\tfeats: _\n",
      "word: технологическому\tupos: ADJ\txpos: None\tfeats: Case=Dat|Degree=Pos|Gender=Masc|Number=Sing\n",
      "word: прорыву\tupos: NOUN\txpos: None\tfeats: Animacy=Inan|Case=Dat|Gender=Masc|Number=Sing\n",
      "word: России\tupos: PROPN\txpos: None\tfeats: Animacy=Inan|Case=Gen|Gender=Fem|Number=Sing\n",
      "word: ,\tupos: PUNCT\txpos: None\tfeats: _\n",
      "word: что\tupos: PRON\txpos: None\tfeats: Case=Nom\n",
      "word: ,\tupos: PUNCT\txpos: None\tfeats: _\n",
      "word: в\tupos: ADP\txpos: None\tfeats: _\n",
      "word: свою\tupos: DET\txpos: None\tfeats: Case=Acc|Gender=Fem|Number=Sing\n",
      "word: очередь\tupos: NOUN\txpos: None\tfeats: Animacy=Inan|Case=Acc|Gender=Fem|Number=Sing\n",
      "word: ,\tupos: PUNCT\txpos: None\tfeats: _\n",
      "word: увеличит\tupos: VERB\txpos: None\tfeats: Aspect=Perf|Mood=Ind|Number=Sing|Person=3|Tense=Fut|VerbForm=Fin|Voice=Act\n",
      "word: объемы\tupos: NOUN\txpos: None\tfeats: Animacy=Inan|Case=Acc|Gender=Masc|Number=Plur\n",
      "word: продаж\tupos: NOUN\txpos: None\tfeats: Animacy=Inan|Case=Gen|Gender=Fem|Number=Plur\n",
      "word: их\tupos: DET\txpos: None\tfeats: _\n",
      "word: автомобилей\tupos: NOUN\txpos: None\tfeats: Animacy=Inan|Case=Gen|Gender=Masc|Number=Plur\n",
      "word: на\tupos: ADP\txpos: None\tfeats: _\n",
      "word: рынке\tupos: NOUN\txpos: None\tfeats: Animacy=Inan|Case=Loc|Gender=Masc|Number=Sing\n",
      "word: ЕС\tupos: PROPN\txpos: None\tfeats: Animacy=Inan|Case=Gen|Gender=Masc|Number=Sing\n",
      "word: .\tupos: PUNCT\txpos: None\tfeats: _\n",
      "word: Поэтому\tupos: ADV\txpos: None\tfeats: Degree=Pos\n",
      "word: крупные\tupos: ADJ\txpos: None\tfeats: Case=Nom|Degree=Pos|Number=Plur\n",
      "word: финансовые\tupos: ADJ\txpos: None\tfeats: Case=Nom|Degree=Pos|Number=Plur\n",
      "word: институты\tupos: NOUN\txpos: None\tfeats: Animacy=Inan|Case=Nom|Gender=Masc|Number=Plur\n",
      "word: меняют\tupos: VERB\txpos: None\tfeats: Aspect=Imp|Mood=Ind|Number=Plur|Person=3|Tense=Pres|VerbForm=Fin|Voice=Act\n",
      "word: содержание\tupos: NOUN\txpos: None\tfeats: Animacy=Inan|Case=Acc|Gender=Neut|Number=Sing\n",
      "word: своих\tupos: DET\txpos: None\tfeats: Case=Gen|Number=Plur\n",
      "word: инвестиционных\tupos: ADJ\txpos: None\tfeats: Case=Gen|Degree=Pos|Number=Plur\n",
      "word: портфелей\tupos: NOUN\txpos: None\tfeats: Animacy=Inan|Case=Gen|Gender=Masc|Number=Plur\n",
      "word: ,\tupos: PUNCT\txpos: None\tfeats: _\n",
      "word: избавляясь\tupos: VERB\txpos: None\tfeats: Aspect=Imp|Tense=Pres|VerbForm=Conv|Voice=Mid\n",
      "word: от\tupos: ADP\txpos: None\tfeats: _\n",
      "word: акций\tupos: NOUN\txpos: None\tfeats: Animacy=Inan|Case=Gen|Gender=Fem|Number=Plur\n",
      "word: немецких\tupos: ADJ\txpos: None\tfeats: Case=Gen|Degree=Pos|Number=Plur\n",
      "word: автомобильных\tupos: ADJ\txpos: None\tfeats: Case=Gen|Degree=Pos|Number=Plur\n",
      "word: концернов»\tupos: NOUN\txpos: None\tfeats: Animacy=Inan|Case=Gen|Gender=Masc|Number=Plur\n",
      "word: .\tupos: PUNCT\txpos: None\tfeats: _\n",
      "word: Александр\tupos: PROPN\txpos: None\tfeats: Animacy=Anim|Case=Nom|Gender=Masc|Number=Sing\n",
      "word: Рар\tupos: PROPN\txpos: None\tfeats: Animacy=Anim|Case=Nom|Gender=Masc|Number=Sing\n",
      "word: добавил\tupos: VERB\txpos: None\tfeats: Aspect=Perf|Gender=Masc|Mood=Ind|Number=Sing|Tense=Past|VerbForm=Fin|Voice=Act\n",
      "word: ,\tupos: PUNCT\txpos: None\tfeats: _\n",
      "word: что\tupos: SCONJ\txpos: None\tfeats: _\n",
      "word: показатели\tupos: NOUN\txpos: None\tfeats: Animacy=Inan|Case=Nom|Gender=Masc|Number=Plur\n",
      "word: «\tupos: NOUN\txpos: None\tfeats: Animacy=Inan|Case=Gen|Gender=Masc|Number=Sing\n",
      "word: Единой\tupos: ADJ\txpos: None\tfeats: Case=Gen|Degree=Pos|Gender=Fem|Number=Sing\n",
      "word: России\tupos: PROPN\txpos: None\tfeats: Animacy=Inan|Case=Gen|Gender=Fem|Number=Sing\n",
      "word: »\tupos: ADV\txpos: None\tfeats: Degree=Pos\n",
      "word: на\tupos: ADP\txpos: None\tfeats: _\n",
      "word: выборах\tupos: NOUN\txpos: None\tfeats: Animacy=Inan|Case=Loc|Gender=Masc|Number=Plur\n",
      "word: свидетельствуют\tupos: VERB\txpos: None\tfeats: Aspect=Imp|Mood=Ind|Number=Plur|Person=3|Tense=Pres|VerbForm=Fin|Voice=Act\n",
      "word: о\tupos: ADP\txpos: None\tfeats: _\n",
      "word: том\tupos: PRON\txpos: None\tfeats: Animacy=Inan|Case=Loc|Gender=Neut|Number=Sing\n",
      "word: ,\tupos: PUNCT\txpos: None\tfeats: _\n",
      "word: что\tupos: SCONJ\txpos: None\tfeats: _\n",
      "word: большинство\tupos: NOUN\txpos: None\tfeats: Animacy=Inan|Case=Nom|Gender=Neut|Number=Sing\n",
      "word: россиян\tupos: NOUN\txpos: None\tfeats: Animacy=Anim|Case=Gen|Gender=Masc|Number=Plur\n",
      "word: поддерживает\tupos: VERB\txpos: None\tfeats: Aspect=Imp|Mood=Ind|Number=Sing|Person=3|Tense=Pres|VerbForm=Fin|Voice=Act\n",
      "word: политику\tupos: NOUN\txpos: None\tfeats: Animacy=Inan|Case=Acc|Gender=Fem|Number=Sing\n",
      "word: правящей\tupos: VERB\txpos: None\tfeats: Aspect=Imp|Case=Gen|Gender=Fem|Number=Sing|Tense=Pres|VerbForm=Part|Voice=Act\n",
      "word: партии\tupos: NOUN\txpos: None\tfeats: Animacy=Inan|Case=Gen|Gender=Fem|Number=Sing\n",
      "word: .\tupos: PUNCT\txpos: None\tfeats: _\n"
     ]
    }
   ],
   "source": [
    "import stanza\n",
    "\n",
    "nlp = stanza.Pipeline(lang='ru', processors='tokenize,pos')\n",
    "doc = nlp(text)\n",
    "\n",
    "print(*[f'word: {word.text}\\tupos: {word.upos}\\txpos: {word.xpos}\\tfeats: {word.feats if word.feats else \"_\"}' for sent in doc.sentences for word in sent.words], sep='\\n')"
   ]
  },
  {
   "cell_type": "code",
   "execution_count": 50,
   "metadata": {},
   "outputs": [],
   "source": [
    "stanza_tagged = []\n",
    "for sent in doc.sentences:\n",
    "    for word in sent.words:\n",
    "        stanza_tagged.append((word.text, word.upos))"
   ]
  },
  {
   "cell_type": "code",
   "execution_count": 51,
   "metadata": {},
   "outputs": [
    {
     "data": {
      "text/plain": [
       "[('На', 'ADP'),\n",
       " ('торгах', 'NOUN'),\n",
       " ('20', 'NUM'),\n",
       " ('сентября', 'NOUN'),\n",
       " ('был', 'AUX')]"
      ]
     },
     "execution_count": 51,
     "metadata": {},
     "output_type": "execute_result"
    }
   ],
   "source": [
    "stanza_tagged[:5]"
   ]
  },
  {
   "cell_type": "code",
   "execution_count": 52,
   "metadata": {},
   "outputs": [],
   "source": [
    "stanza_tagged.append(('', ''))\n",
    "stanza_tagged.append(('', ''))"
   ]
  },
  {
   "cell_type": "markdown",
   "metadata": {},
   "source": [
    "### pymorphy2"
   ]
  },
  {
   "cell_type": "code",
   "execution_count": 53,
   "metadata": {},
   "outputs": [],
   "source": [
    "import pymorphy2\n",
    "import nltk\n",
    "morph = pymorphy2.MorphAnalyzer()"
   ]
  },
  {
   "cell_type": "code",
   "execution_count": 55,
   "metadata": {},
   "outputs": [],
   "source": [
    "tokens = nltk.word_tokenize(text)"
   ]
  },
  {
   "cell_type": "code",
   "execution_count": 56,
   "metadata": {},
   "outputs": [],
   "source": [
    "pymorphy2_tagged = []"
   ]
  },
  {
   "cell_type": "code",
   "execution_count": 57,
   "metadata": {},
   "outputs": [],
   "source": [
    "for token in tokens:\n",
    "    token = morph.parse(token)\n",
    "    pymorphy2_tagged.append((token[0].normal_form, token[0].tag.POS))\n",
    "    "
   ]
  },
  {
   "cell_type": "code",
   "execution_count": 58,
   "metadata": {},
   "outputs": [
    {
     "data": {
      "text/plain": [
       "[('на', 'PREP'),\n",
       " ('торг', 'NOUN'),\n",
       " ('20', None),\n",
       " ('сентябрь', 'NOUN'),\n",
       " ('быть', 'VERB')]"
      ]
     },
     "execution_count": 58,
     "metadata": {},
     "output_type": "execute_result"
    }
   ],
   "source": [
    "pymorphy2_tagged[:5]"
   ]
  },
  {
   "cell_type": "markdown",
   "metadata": {},
   "source": [
    "### natasha"
   ]
  },
  {
   "cell_type": "code",
   "execution_count": 60,
   "metadata": {},
   "outputs": [],
   "source": [
    "from natasha import (\n",
    "    Segmenter,\n",
    "    MorphVocab,\n",
    "    \n",
    "    NewsEmbedding,\n",
    "    NewsMorphTagger,\n",
    "    NewsSyntaxParser,\n",
    "    NewsNERTagger,\n",
    "\n",
    "    Doc\n",
    ")\n",
    "emb = NewsEmbedding()\n",
    "morph_tagger = NewsMorphTagger(emb)\n",
    "segmenter = Segmenter()"
   ]
  },
  {
   "cell_type": "code",
   "execution_count": 61,
   "metadata": {},
   "outputs": [],
   "source": [
    "doc = Doc(text)\n",
    "doc.segment(segmenter)"
   ]
  },
  {
   "cell_type": "code",
   "execution_count": 62,
   "metadata": {},
   "outputs": [],
   "source": [
    "doc.tag_morph(morph_tagger)"
   ]
  },
  {
   "cell_type": "code",
   "execution_count": 63,
   "metadata": {},
   "outputs": [],
   "source": [
    "natasha_tagged = [(_.text, _.pos) for _ in doc.tokens]"
   ]
  },
  {
   "cell_type": "code",
   "execution_count": 64,
   "metadata": {},
   "outputs": [
    {
     "data": {
      "text/plain": [
       "[('На', 'ADP'),\n",
       " ('торгах', 'NOUN'),\n",
       " ('20', 'ADJ'),\n",
       " ('сентября', 'NOUN'),\n",
       " ('был', 'AUX'),\n",
       " ('зафиксирован', 'VERB'),\n",
       " ('самый', 'ADJ'),\n",
       " ('низкий', 'ADJ'),\n",
       " ('за', 'ADP'),\n",
       " ('последние', 'ADJ')]"
      ]
     },
     "execution_count": 64,
     "metadata": {},
     "output_type": "execute_result"
    }
   ],
   "source": [
    "natasha_tagged[:10]"
   ]
  },
  {
   "cell_type": "markdown",
   "metadata": {},
   "source": [
    "Записываем результаты в csv-файлы. "
   ]
  },
  {
   "cell_type": "code",
   "execution_count": 65,
   "metadata": {},
   "outputs": [],
   "source": [
    "import csv"
   ]
  },
  {
   "cell_type": "code",
   "execution_count": 66,
   "metadata": {},
   "outputs": [],
   "source": [
    "with open('natasha_results.csv', 'w', newline='') as csvfile:\n",
    "    writer = csv.writer(csvfile)\n",
    "    for s in natasha_tagged:\n",
    "        writer.writerow([s[0], s[1]])"
   ]
  },
  {
   "cell_type": "code",
   "execution_count": 67,
   "metadata": {},
   "outputs": [],
   "source": [
    "with open('stanza_results.csv', 'w', newline='') as csvfile:\n",
    "    writer = csv.writer(csvfile)\n",
    "    for s in stanza_tagged:\n",
    "        writer.writerow([s[0], s[1]])"
   ]
  },
  {
   "cell_type": "code",
   "execution_count": 68,
   "metadata": {},
   "outputs": [],
   "source": [
    "with open('pymorphy2_results.csv', 'w', newline='') as csvfile:\n",
    "    writer = csv.writer(csvfile)\n",
    "    for p in pymorphy2_tagged:\n",
    "        writer.writerow([p[0], p[1]])"
   ]
  },
  {
   "cell_type": "markdown",
   "metadata": {},
   "source": [
    "### Считаем совпадения в разметках"
   ]
  },
  {
   "cell_type": "code",
   "execution_count": 69,
   "metadata": {},
   "outputs": [],
   "source": [
    "pymorphy2_dict = {\n",
    "    'NOUN': 'NOUN',\n",
    "    'ADJF': 'ADJ',\n",
    "    'ADJS': 'ADJ',\n",
    "    'COMP': 'ADJ',\n",
    "    'VERB': 'VERB',\n",
    "    'INFN': 'VERB',\n",
    "    'PRTF': 'ADJ',\n",
    "    'PRTS': 'ADJ',\n",
    "    'GRND': 'VERB',\n",
    "    'NUMR': 'NUM',\n",
    "    'ADVB': 'ADV',\n",
    "    'NPRO': 'PRON',\n",
    "    'PRED': 'ADV',\n",
    "    'PREP': 'ADP',\n",
    "    'CONJ': 'CCONJ',\n",
    "    'PRCL': 'PART',\n",
    "    'INTJ': 'INTJ',\n",
    "    '': ''\n",
    "}"
   ]
  },
  {
   "cell_type": "code",
   "execution_count": 70,
   "metadata": {},
   "outputs": [],
   "source": [
    "tagged_corp = []"
   ]
  },
  {
   "cell_type": "code",
   "execution_count": 71,
   "metadata": {},
   "outputs": [],
   "source": [
    "with open('corpus.csv', 'r') as csv_file:\n",
    "    reader = csv.reader(csv_file, delimiter=',')\n",
    "    for row in reader:\n",
    "        if len(row) == 2:\n",
    "            tagged_corp.append((row[0], row[1]))"
   ]
  },
  {
   "cell_type": "code",
   "execution_count": 73,
   "metadata": {},
   "outputs": [],
   "source": [
    "def read_corpus(file):\n",
    "    with open(file, 'r') as csv_file:\n",
    "        corpus = []\n",
    "        reader = csv.reader(csv_file, delimiter=',')\n",
    "        if file == 'pymorphy2_results.csv':\n",
    "            for row in reader:\n",
    "                if len(row) == 2:\n",
    "                    pos_tag = pymorphy2_dict[row[1]]\n",
    "                    corpus.append((row[0], pos_tag))\n",
    "        else:\n",
    "            for row in reader:\n",
    "                if len(row) == 2:\n",
    "                    corpus.append((row[0], row[1]))\n",
    "    return corpus"
   ]
  },
  {
   "cell_type": "code",
   "execution_count": 78,
   "metadata": {},
   "outputs": [],
   "source": [
    "acc = []\n",
    "\n",
    "def get_accuracy(file):\n",
    "    \n",
    "    corpus = read_corpus(file)\n",
    "    \n",
    "    for tc in range(len(tagged_corp)):\n",
    "        counter = 0\n",
    "        if tagged_corp[tc][0] == corpus[tc][0]:\n",
    "            if tagged_corp[tc][1] == corpus[tc][1]:\n",
    "                acc.append(1)\n",
    "                counter = 1\n",
    "            else:\n",
    "                acc.append(0)\n",
    "                counter = 1\n",
    "        else:\n",
    "            for c in corpus:\n",
    "                if c[0] == tagged_corp[tc][0]:\n",
    "                    if c[1] == tagged_corp[tc][1]:\n",
    "                        acc.append(1)\n",
    "                        counter = 1\n",
    "                        break\n",
    "        if counter == 0:\n",
    "            acc.append(0)\n",
    "    return acc"
   ]
  },
  {
   "cell_type": "markdown",
   "metadata": {},
   "source": [
    "### Оцениваем результаты"
   ]
  },
  {
   "cell_type": "code",
   "execution_count": 76,
   "metadata": {},
   "outputs": [
    {
     "name": "stdout",
     "output_type": "stream",
     "text": [
      "0.691908713692946\n"
     ]
    }
   ],
   "source": [
    "print(sum(get_accuracy('stanza_results.csv'))/len(get_accuracy('stanza_results.csv')))"
   ]
  },
  {
   "cell_type": "code",
   "execution_count": 77,
   "metadata": {},
   "outputs": [
    {
     "name": "stdout",
     "output_type": "stream",
     "text": [
      "0.6493775933609959\n"
     ]
    }
   ],
   "source": [
    "print(sum(get_accuracy('pymorphy2_results.csv'))/len(get_accuracy('pymorphy2_results.csv')))"
   ]
  },
  {
   "cell_type": "code",
   "execution_count": 79,
   "metadata": {},
   "outputs": [
    {
     "name": "stdout",
     "output_type": "stream",
     "text": [
      "0.46265560165975106\n"
     ]
    }
   ],
   "source": [
    "print(sum(get_accuracy('natasha_results.csv'))/len(get_accuracy('natasha_results.csv')))"
   ]
  },
  {
   "cell_type": "markdown",
   "metadata": {},
   "source": [
    "В результате лучший результат показывает stanza."
   ]
  }
 ],
 "metadata": {
  "kernelspec": {
   "display_name": "Python 3",
   "language": "python",
   "name": "python3"
  },
  "language_info": {
   "codemirror_mode": {
    "name": "ipython",
    "version": 3
   },
   "file_extension": ".py",
   "mimetype": "text/x-python",
   "name": "python",
   "nbconvert_exporter": "python",
   "pygments_lexer": "ipython3",
   "version": "3.8.3"
  }
 },
 "nbformat": 4,
 "nbformat_minor": 4
}
